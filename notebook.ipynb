{
 "cells": [
  {
   "cell_type": "code",
   "execution_count": 1,
   "metadata": {},
   "outputs": [],
   "source": [
    "import os\n",
    "import sqlite3\n",
    "import zipfile\n",
    "import subprocess\n",
    "from itertools import zip_longest\n",
    "import shutil\n",
    "\n",
    "DB_PATH = \"toronto.sqlite\"\n",
    "ADDRESS_POINTS_DIR = \"Municipal address points (wgs84) - shapefile\"\n",
    "PROPERTY_BOUNDARIES_DIR = \"Property Boundaries (wgs84) - shapefile\"\n",
    "\n",
    "ADDRESS_POINTS_ZIP = ADDRESS_POINTS_DIR+\".zip\"\n",
    "PROPERTY_BOUNDARIES_ZIP = PROPERTY_BOUNDARIES_DIR+\".zip\"\n",
    "\n",
    "CHARSET = \"CP1252\""
   ]
  },
  {
   "cell_type": "code",
   "execution_count": 2,
   "metadata": {},
   "outputs": [],
   "source": [
    "# Check if the directories exist, if they do, remove them\n",
    "if os.path.exists(ADDRESS_POINTS_DIR):\n",
    "    shutil.rmtree(ADDRESS_POINTS_DIR)\n",
    "    \n",
    "if os.path.exists(PROPERTY_BOUNDARIES_DIR):\n",
    "    shutil.rmtree(PROPERTY_BOUNDARIES_DIR)\n",
    "\n",
    "# Extract the zip files\n",
    "with zipfile.ZipFile(ADDRESS_POINTS_ZIP, 'r') as zip_ref:\n",
    "    zip_ref.extractall(ADDRESS_POINTS_DIR)\n",
    "    \n",
    "with zipfile.ZipFile(PROPERTY_BOUNDARIES_ZIP, 'r') as zip_ref:\n",
    "    zip_ref.extractall(PROPERTY_BOUNDARIES_DIR)"
   ]
  },
  {
   "cell_type": "code",
   "execution_count": null,
   "metadata": {},
   "outputs": [],
   "source": []
  }
 ],
 "metadata": {
  "kernelspec": {
   "display_name": "toronto-parcel-GCXzmjke",
   "language": "python",
   "name": "python3"
  },
  "language_info": {
   "codemirror_mode": {
    "name": "ipython",
    "version": 3
   },
   "file_extension": ".py",
   "mimetype": "text/x-python",
   "name": "python",
   "nbconvert_exporter": "python",
   "pygments_lexer": "ipython3",
   "version": "3.11.5"
  },
  "orig_nbformat": 4
 },
 "nbformat": 4,
 "nbformat_minor": 2
}
