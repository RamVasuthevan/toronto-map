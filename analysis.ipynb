{
 "cells": [
  {
   "cell_type": "markdown",
   "id": "aa71e9b1-30e9-486c-befe-bb9b74d011a3",
   "metadata": {},
   "source": [
    "# Quick data analysis for Toronto Parcel map"
   ]
  },
  {
   "cell_type": "code",
   "execution_count": 1,
   "id": "bb2464db-6f0c-4c9b-be26-297c74a2747c",
   "metadata": {
    "tags": []
   },
   "outputs": [],
   "source": [
    "import zipfile\n",
    "import os\n",
    "import geopandas as gpd"
   ]
  },
  {
   "cell_type": "markdown",
   "id": "d8ae62d3-ebf5-4560-8099-a0614e7639b3",
   "metadata": {},
   "source": [
    "## Unzip shapefiles"
   ]
  },
  {
   "cell_type": "code",
   "execution_count": 2,
   "id": "4b16c746-2e9f-4fa3-a058-a999014723f5",
   "metadata": {
    "tags": []
   },
   "outputs": [],
   "source": [
    "# Define the paths to your zip files\n",
    "address_points_zip = \"Municipal address points (wgs84) - shapefile.zip\"\n",
    "property_boundaries_zip = \"Property Boundaries (wgs84) - shapefile.zip\"\n",
    "\n",
    "# Function to extract zip files\n",
    "def extract_zip(zip_path, output_path=\".\"):\n",
    "    with zipfile.ZipFile(zip_path, 'r') as zip_ref:\n",
    "        zip_ref.extractall(output_path)\n",
    "\n",
    "# Create the directories if they don't exist\n",
    "address_points_dir = \"Municipal address points (wgs84) - shapefile\"\n",
    "property_boundaries_dir = \"Property Boundaries (wgs84) - shapefile\"\n",
    "\n",
    "os.makedirs(address_points_dir, exist_ok=True)\n",
    "os.makedirs(property_boundaries_dir, exist_ok=True)\n",
    "\n",
    "# Extract the files\n",
    "extract_zip(address_points_zip, address_points_dir)\n",
    "extract_zip(property_boundaries_zip, property_boundaries_dir)"
   ]
  },
  {
   "cell_type": "markdown",
   "id": "4d6c34f2-b308-4d2f-9699-5bfedf1107c9",
   "metadata": {},
   "source": [
    "## Generate GeoDataFrames"
   ]
  },
  {
   "cell_type": "code",
   "execution_count": 3,
   "id": "dbeb025e-f10f-45ab-970a-48d90e9f23df",
   "metadata": {
    "tags": []
   },
   "outputs": [
    {
     "name": "stdout",
     "output_type": "stream",
     "text": [
      "hello1\n",
      "hello2\n",
      "hello3\n",
      "hello4\n"
     ]
    }
   ],
   "source": [
    "print(\"hello1\")\n",
    "# Load the shapefiles from the extracted directories\n",
    "address_points_shapefile = os.path.join(address_points_dir, [f for f in os.listdir(address_points_dir) if f.endswith('.shp')][0])\n",
    "property_boundaries_shapefile = os.path.join(property_boundaries_dir, [f for f in os.listdir(property_boundaries_dir) if f.endswith('.shp')][0])\n",
    "\n",
    "print(\"hello2\")\n",
    "\n",
    "# Read the shapefiles using GeoPandas\n",
    "address_points_gdf = gpd.read_file(address_points_shapefile)\n",
    "property_boundaries_gdf = gpd.read_file(property_boundaries_shapefile)\n",
    "\n",
    "print(\"hello3\")\n",
    "\n",
    "\n",
    "# Count the number of parcels\n",
    "num_address = len(address_points_gdf)\n",
    "num_parcels = len(property_boundaries_gdf)\n",
    "\n",
    "print(\"hello4\")"
   ]
  },
  {
   "cell_type": "code",
   "execution_count": 4,
   "id": "ddf52e98-2823-4437-b0f2-3522fd4d75db",
   "metadata": {},
   "outputs": [
    {
     "data": {
      "text/plain": [
       "525838"
      ]
     },
     "execution_count": 4,
     "metadata": {},
     "output_type": "execute_result"
    }
   ],
   "source": [
    "num_address"
   ]
  },
  {
   "cell_type": "code",
   "execution_count": 5,
   "id": "bb398ceb-c216-4c81-bc48-6a4d3745429c",
   "metadata": {
    "tags": []
   },
   "outputs": [
    {
     "data": {
      "text/plain": [
       "498520"
      ]
     },
     "execution_count": 5,
     "metadata": {},
     "output_type": "execute_result"
    }
   ],
   "source": [
    "num_parcels"
   ]
  }
 ],
 "metadata": {
  "kernelspec": {
   "display_name": "Python 3 (ipykernel)",
   "language": "python",
   "name": "python3"
  },
  "language_info": {
   "codemirror_mode": {
    "name": "ipython",
    "version": 3
   },
   "file_extension": ".py",
   "mimetype": "text/x-python",
   "name": "python",
   "nbconvert_exporter": "python",
   "pygments_lexer": "ipython3",
   "version": "3.11.5"
  }
 },
 "nbformat": 4,
 "nbformat_minor": 5
}
